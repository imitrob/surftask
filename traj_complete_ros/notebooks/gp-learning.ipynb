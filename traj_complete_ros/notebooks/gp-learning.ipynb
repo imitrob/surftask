{
 "cells": [
  {
   "cell_type": "code",
   "execution_count": null,
   "metadata": {
    "collapsed": true
   },
   "outputs": [],
   "source": [
    "import arviz as az\n",
    "import matplotlib.pyplot as plt\n",
    "import numpy as np\n",
    "import pymc3 as pm\n",
    "import seaborn as sns\n",
    "import theano.tensor as T\n",
    "\n",
    "from pymc3 import (\n",
    "    NUTS,\n",
    "    Deterministic,\n",
    "    HalfCauchy,\n",
    "    Model,\n",
    "    MvNormal,\n",
    "    find_MAP,\n",
    "    sample,\n",
    "    summary,\n",
    "    traceplot,\n",
    ")\n",
    "from theano import shared\n",
    "from theano.tensor.nlinalg import matrix_inverse\n",
    "\n",
    "print(f\"Running on PyMC3 v{pm.__version__}\")\n"
   ]
  }
 ],
 "metadata": {
  "kernelspec": {
   "display_name": "Python 2",
   "language": "python",
   "name": "python2"
  },
  "language_info": {
   "codemirror_mode": {
    "name": "ipython",
    "version": 2
   },
   "file_extension": ".py",
   "mimetype": "text/x-python",
   "name": "python",
   "nbconvert_exporter": "python",
   "pygments_lexer": "ipython2",
   "version": "2.7.6"
  },
  "pycharm": {
   "stem_cell": {
    "cell_type": "raw",
    "source": [],
    "metadata": {
     "collapsed": false
    }
   }
  }
 },
 "nbformat": 4,
 "nbformat_minor": 0
}